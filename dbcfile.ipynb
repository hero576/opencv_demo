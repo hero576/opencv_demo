{
 "cells": [
  {
   "cell_type": "code",
   "execution_count": 2,
   "metadata": {},
   "outputs": [],
   "source": [
    "import re\n",
    "import copy"
   ]
  },
  {
   "cell_type": "code",
   "execution_count": 21,
   "metadata": {},
   "outputs": [],
   "source": [
    "class DBCFile:\n",
    "    node = []\n",
    "    allDatas = []\n",
    "    siganlList = []\n",
    "    SignalsName = []\n",
    "    messageName = []\n",
    "    filename = \"\"\n",
    "    # NodesPattern:节点\n",
    "    NodesPattern = re.compile(r\"BU_: (.*)\", re.S)\n",
    "    # MessagePattern：消息\n",
    "    MessagePattern = re.compile(r\"BO_ (.*?) (.*?): (.*?) (.*)\", re.S)\n",
    "    # SignalPattern：信号\n",
    "    SignalPattern = re.compile('''SG_ (.*?) : (.*?)\\|(.*?)@.*? \\((.*?),(.*?)\\) \\[(.*?)\\|(.*?)\\] \"(.*?)\" (.*)''', re.S)\n",
    "    DefaultValue = '''BA_ \"GenSig(.*?)\" SG_ (\\d+) signalname (\\d+);'''\n",
    "        \n",
    "    def __init__(self,filename):\n",
    "        self.filename = filename\n",
    "    \n",
    "    def read(self):\n",
    "        with open(self.filename,encoding=\"gbk\") as f:  # 设置文件对象\n",
    "            self.allDatas = []\n",
    "            line = f.readline()\n",
    "            while line:\n",
    "                \"\"\" 匹配出节点 \"\"\"\n",
    "                NodesSearched = re.search(self.NodesPattern, line.strip())\n",
    "                if NodesSearched:\n",
    "                    self.node = NodesSearched.group(1).split(\" \")\n",
    "                \"\"\" 匹配出消息 \"\"\"\n",
    "                MessageSearched = re.search(self.MessagePattern, line.strip())\n",
    "                if MessageSearched:\n",
    "                    self.siganlList.clear()\n",
    "                    \"\"\"如果匹配到了message，则获取到message的相关参数 \n",
    "                     比如匹配到了NM_Message_ESC_409，则会解析出改message的一些参数构成list对象['1033', 'NM_Message_ESC_409', '8', 'ESC']\n",
    "                     这四个参数分别是 messgage ID ;message name ; messgae dataLenth ,message sender\n",
    "                     而且把这个list对象 加在了 siganlList 索引0的位置\n",
    "                    \"\"\"\n",
    "                    Message = list(MessageSearched.groups())\n",
    "                    self.siganlList.append(Message)\n",
    "                    \"\"\" 只 要 message的名字 messageName 列表中\"\"\"\n",
    "                    self.messageName.append(Message[1])\n",
    "                    \"\"\"读取下一行\"\"\"\n",
    "                    line = f.readline()\n",
    "                    \"\"\"因为有些message并没有定义signal，所以 下一行还是message\"\"\"\n",
    "                    MessageSearched = re.search(self.MessagePattern, line.strip())\n",
    "                    SignalSearched = re.search(self.SignalPattern, line.strip())\n",
    "                    \"\"\"下一行如果不是message的内容 就一定是signal的内容了\"\"\"\n",
    "                    if not MessageSearched:\n",
    "                        while SignalSearched:\n",
    "                            \"\"\"获取信号的参数追加到siganlList\"\"\"\n",
    "                            signal = list(SignalSearched.groups())\n",
    "                            self.siganlList.append(signal)\n",
    "                            \"\"\"只获取 signal name\"\"\"\n",
    "                            self.SignalsName.append(signal[0])\n",
    "\n",
    "                            # 再次解析信号，直到这个message下的信号全部解析完毕\n",
    "                            line = f.readline()\n",
    "                            SignalSearched = re.search(self.SignalPattern, line.strip())\n",
    "                   # print(siganlList)\n",
    "                    c = copy.deepcopy(self.siganlList)\n",
    "                    self.allDatas.append(c)\n",
    "                else:\n",
    "                    line = f.readline()\n",
    "                    MessageSearched = re.search(self.MessagePattern, line.strip())"
   ]
  },
  {
   "cell_type": "code",
   "execution_count": 22,
   "metadata": {},
   "outputs": [],
   "source": [
    "filename = \"./data/J1939_bms.dbc\"\n",
    "d = DBCFile(filename)"
   ]
  },
  {
   "cell_type": "code",
   "execution_count": 37,
   "metadata": {},
   "outputs": [
    {
     "name": "stdout",
     "output_type": "stream",
     "text": [
      "21 147 4 756\n"
     ]
    }
   ],
   "source": [
    "d.read()\n",
    "print(len(d.allDatas),len(d.messageName),len(d.siganlList),len(d.SignalsName))"
   ]
  }
 ],
 "metadata": {
  "kernelspec": {
   "display_name": "Python 3",
   "language": "python",
   "name": "python3"
  },
  "language_info": {
   "codemirror_mode": {
    "name": "ipython",
    "version": 3
   },
   "file_extension": ".py",
   "mimetype": "text/x-python",
   "name": "python",
   "nbconvert_exporter": "python",
   "pygments_lexer": "ipython3",
   "version": "3.8.5"
  }
 },
 "nbformat": 4,
 "nbformat_minor": 4
}
