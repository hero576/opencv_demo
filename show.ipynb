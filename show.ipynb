{
 "cells": [
  {
   "cell_type": "code",
   "execution_count": 2,
   "metadata": {},
   "outputs": [],
   "source": [
    "import open3d as o3d\n",
    "import numpy as np\n",
    "import matplotlib.pyplot as plt\n",
    "import os\n",
    "import struct\n",
    "from itertools import cycle, islice\n",
    "import matplotlib.pyplot as plt\n",
    "from mpl_toolkits.mplot3d import Axes3D\n",
    "import random\n",
    "random.seed(14)"
   ]
  },
  {
   "cell_type": "code",
   "execution_count": 3,
   "metadata": {},
   "outputs": [],
   "source": [
    "# 功能：从kitti的.bin格式点云文件中读取点云\n",
    "# 输入：\n",
    "#     path: 文件路径\n",
    "# 输出：\n",
    "#     点云数组\n",
    "def read_velodyne_bin(path):\n",
    "    '''\n",
    "    :param path:\n",
    "    :return: homography matrix of the point cloud, N*3\n",
    "    '''\n",
    "    pc_list = []\n",
    "    with open(path, 'rb') as f:\n",
    "        content = f.read()\n",
    "        pc_iter = struct.iter_unpack('ffff', content)\n",
    "        for idx, point in enumerate(pc_iter):\n",
    "            pc_list.append([point[0], point[1], point[2]])\n",
    "    return np.asarray(pc_list, dtype=np.float32)"
   ]
  },
  {
   "cell_type": "code",
   "execution_count": 4,
   "metadata": {},
   "outputs": [],
   "source": [
    "def view_from_points(model):\n",
    "    pcd = o3d.geometry.PointCloud()\n",
    "    pcd.points = o3d.utility.Vector3dVector(model)\n",
    "    view_with_keycallback(pcd)\n",
    "\n",
    "def view_with_keycallback(pcd,aixs=np.zeros(0),title=\"\"):\n",
    "    def capture_image(vis):\n",
    "        image = vis.capture_screen_float_buffer()\n",
    "        plt.imshow(np.asarray(image))\n",
    "        plt.title(title)\n",
    "        plt.show()\n",
    "        return False\n",
    "    key_to_callback = {}\n",
    "    key_to_callback[ord(\"R\")] = capture_image\n",
    "    o3d.visualization.draw_geometries_with_key_callbacks([pcd], key_to_callback)"
   ]
  },
  {
   "cell_type": "code",
   "execution_count": 5,
   "metadata": {},
   "outputs": [],
   "source": [
    "def view_from_points_with_color(model,color_idx):\n",
    "    pcd = o3d.geometry.PointCloud()\n",
    "    pcd.points = o3d.utility.Vector3dVector(model)\n",
    "    n_cluster = len(set(color_idx))\n",
    "    random_color = np.zeros((n_cluster,3))\n",
    "    colors = np.zeros(model.shape)\n",
    "    for i in range(n_cluster):\n",
    "        random_color[i] = np.array([random.randint(1,255),random.randint(1,255),random.randint(1,255) ])\n",
    "    for idx,i in enumerate(cluster_index):\n",
    "        colors[idx] = random_color[i]\n",
    "    pcd.colors = o3d.utility.Vector3dVector(colors/255)\n",
    "    view_with_keycallback(pcd)"
   ]
  },
  {
   "cell_type": "code",
   "execution_count": 11,
   "metadata": {},
   "outputs": [],
   "source": [
    "points = read_velodyne_bin(\"registration_dataset/point_clouds/636.bin\")\n",
    "view_from_points(points)"
   ]
  },
  {
   "cell_type": "code",
   "execution_count": 14,
   "metadata": {},
   "outputs": [],
   "source": [
    "def a(b=None):\n",
    "    b[1]=2"
   ]
  },
  {
   "cell_type": "code",
   "execution_count": 15,
   "metadata": {},
   "outputs": [
    {
     "data": {
      "text/plain": [
       "[1111, 2]"
      ]
     },
     "execution_count": 15,
     "metadata": {},
     "output_type": "execute_result"
    }
   ],
   "source": [
    "b = [1111,123123]\n",
    "a(b)\n",
    "b"
   ]
  },
  {
   "cell_type": "code",
   "execution_count": null,
   "metadata": {},
   "outputs": [],
   "source": []
  },
  {
   "cell_type": "code",
   "execution_count": null,
   "metadata": {},
   "outputs": [],
   "source": []
  },
  {
   "cell_type": "code",
   "execution_count": null,
   "metadata": {},
   "outputs": [],
   "source": []
  },
  {
   "cell_type": "code",
   "execution_count": null,
   "metadata": {},
   "outputs": [],
   "source": []
  },
  {
   "cell_type": "code",
   "execution_count": null,
   "metadata": {},
   "outputs": [],
   "source": []
  }
 ],
 "metadata": {
  "kernelspec": {
   "display_name": "Python 3",
   "language": "python",
   "name": "python3"
  },
  "language_info": {
   "codemirror_mode": {
    "name": "ipython",
    "version": 3
   },
   "file_extension": ".py",
   "mimetype": "text/x-python",
   "name": "python",
   "nbconvert_exporter": "python",
   "pygments_lexer": "ipython3",
   "version": "3.8.5"
  }
 },
 "nbformat": 4,
 "nbformat_minor": 4
}
