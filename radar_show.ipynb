{
 "cells": [
  {
   "cell_type": "code",
   "execution_count": 3,
   "metadata": {},
   "outputs": [],
   "source": [
    "import numpy as np\n",
    "import open3d as o3d\n",
    "import struct,os"
   ]
  },
  {
   "cell_type": "code",
   "execution_count": 4,
   "metadata": {},
   "outputs": [],
   "source": [
    "def read_bin_file(bin_file):\n",
    "    cloud = np.fromfile(bin_file, dtype=np.float32, count=-1).reshape([-1, 4])\n",
    "    cloud = cloud[:,:3]\n",
    "    return cloud"
   ]
  },
  {
   "cell_type": "code",
   "execution_count": 5,
   "metadata": {},
   "outputs": [],
   "source": [
    "def show_model(cloud):\n",
    "    # numpy保存成pcd并可视化\n",
    "    pcd = o3d.geometry.PointCloud()\n",
    "    pcd.points = o3d.utility.Vector3dVector(cloud)\n",
    "    #o3d.io.write_point_cloud(\"1.ply\", pcd)\n",
    "    o3d.visualization.draw_geometries([pcd])"
   ]
  },
  {
   "cell_type": "code",
   "execution_count": 9,
   "metadata": {},
   "outputs": [],
   "source": [
    "def show_bin_files(file_path):\n",
    "    count = 4\n",
    "    for file in os.listdir(file_path):\n",
    "        if not \"bin\" in file:\n",
    "            continue\n",
    "        if not count:\n",
    "            break\n",
    "        count-=1\n",
    "        print(file)\n",
    "        filename = os.path.join(file_path,file)\n",
    "        cloud = read_bin_file(filename)\n",
    "        show_model(cloud)"
   ]
  },
  {
   "cell_type": "code",
   "execution_count": 10,
   "metadata": {},
   "outputs": [
    {
     "name": "stdout",
     "output_type": "stream",
     "text": [
      "1547131046260961.bin\n",
      "1547131046310775.bin\n",
      "1547131046360493.bin\n",
      "1547131046410265.bin\n"
     ]
    }
   ],
   "source": [
    "bin_path = \"/media/hero576/Seagate Backup Plus Drive/data/radar/2019-01-10-14-36-48-radar-oxford-10k-partial/velodyne_left\"\n",
    "show_bin_files(bin_path)\n",
    "# print(os.listdir(bin_path))"
   ]
  },
  {
   "cell_type": "code",
   "execution_count": null,
   "metadata": {},
   "outputs": [],
   "source": []
  },
  {
   "cell_type": "code",
   "execution_count": null,
   "metadata": {},
   "outputs": [],
   "source": []
  }
 ],
 "metadata": {
  "kernelspec": {
   "display_name": "Python 3",
   "language": "python",
   "name": "python3"
  },
  "language_info": {
   "codemirror_mode": {
    "name": "ipython",
    "version": 3
   },
   "file_extension": ".py",
   "mimetype": "text/x-python",
   "name": "python",
   "nbconvert_exporter": "python",
   "pygments_lexer": "ipython3",
   "version": "3.8.5"
  }
 },
 "nbformat": 4,
 "nbformat_minor": 4
}
