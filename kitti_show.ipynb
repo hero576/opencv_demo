{
 "cells": [
  {
   "cell_type": "code",
   "execution_count": 1,
   "metadata": {},
   "outputs": [],
   "source": [
    "import os, cv2\n",
    "import pandas as pd\n",
    "import numpy as np"
   ]
  },
  {
   "cell_type": "code",
   "execution_count": 2,
   "metadata": {},
   "outputs": [],
   "source": [
    "# 小轿，面包，卡车，电车，行人，sitting行人，骑行人，杂项\n",
    "class_name = [\"Car\", \"Van\", \"Truck\", \"Tram\", \"Pedestrian\", \"Person_sitting\", \"Cyclist\", \"Misc\", \"DontCare\"]\n",
    "class_dict = {key: index for index, key in enumerate(class_name)}"
   ]
  },
  {
   "cell_type": "code",
   "execution_count": 3,
   "metadata": {},
   "outputs": [],
   "source": [
    "image_path = \"/home/hero576/code/python/yolov5/data/kitti/training/image2\"\n",
    "label_path = \"/home/hero576/code/python/yolov5/data/kitti/training/label2\"\n",
    "label_output = \"/home/hero576/code/python/yolov5/data/kitti/training/yolo_label\""
   ]
  },
  {
   "cell_type": "code",
   "execution_count": null,
   "metadata": {},
   "outputs": [],
   "source": [
    "for file in os.listdir(label_path):\n",
    "    label_file = os.path.join(label_path,file)\n",
    "    image_file = os.path.join(image_path,file.replace(\"txt\",\"png\"))\n",
    "    img = cv2.imread(image_file)\n",
    "    width = img.shape[1]\n",
    "    height = img.shape[0]\n",
    "    with open(label_file) as f:\n",
    "        for data in f.readlines():\n",
    "            if not data:\n",
    "                continue\n",
    "            label_data = data.split(\" \")\n",
    "            label_class = label_data[0]\n",
    "            if label_class is None:\n",
    "                continue\n",
    "            left, top, right, bottom = float(label_data[4]), float(label_data[5]), float(\n",
    "                label_data[6]), float(label_data[7])\n",
    "            cv2.rectangle(img, (int(left),int(top)), (int(right),int(bottom)), (0,255,255))\n",
    "            cv2.putText(img, label_class, (int(left),int(top)), cv2.FONT_HERSHEY_COMPLEX, 0.45, (0,0,255), 1)\n",
    "    cv2.imshow(\"res\",img)\n",
    "    cv2.waitKey(0)\n",
    "cv2.destroyAllWindows()"
   ]
  },
  {
   "cell_type": "code",
   "execution_count": null,
   "metadata": {},
   "outputs": [],
   "source": [
    "class Kitti2Dark:\n",
    "    Columns_name = ['type', 'truncated', 'occluded', 'alpha', 'bbox_lift', 'bbox_top',\n",
    "                    'bbox_right', 'bbox_bottom', 'height', 'width', 'length', 'pos_x', 'pos_y', 'pos_z', 'rot_y']\n",
    "\n",
    "    def __init__(self, image_path, label_path, label_output):\n",
    "        self.image_path = image_path\n",
    "        self.label_path = label_path\n",
    "        self.label_output = label_output\n",
    "        if not os.path.exists(self.label_output):\n",
    "            os.makedirs(self.label_output)\n",
    "        self.convert()\n",
    "\n",
    "    def convert(self):\n",
    "        for file in os.listdir(self.label_path):\n",
    "            img_filename = os.path.join(self.image_path, file.replace(\"txt\", \"png\"))\n",
    "            label_filename = os.path.join(self.label_path, file)\n",
    "            img = cv2.imread(img_filename)\n",
    "            width = img.shape[1]\n",
    "            height = img.shape[0]\n",
    "\n",
    "            with open(label_filename) as f:\n",
    "                with open(os.path.join(self.label_output, file), \"w\") as f2:\n",
    "                    for data in f.readlines():\n",
    "                        if not data:\n",
    "                            continue\n",
    "                        label_data = data.split(\" \")\n",
    "                        label_class = class_dict.get(label_data[0])\n",
    "                        if label_class is None:\n",
    "                            continue\n",
    "                        left, top, right, bottom = float(label_data[4]), float(label_data[5]), float(\n",
    "                            label_data[6]), float(\n",
    "                            label_data[7])\n",
    "                        x = (right + left) / (2 * width)\n",
    "                        y = (top + bottom) / (2 * height)\n",
    "                        w = (right - left) / width\n",
    "                        h = (top - bottom) / height\n",
    "                        f2.write(\" \".join([str(i) for i in [label_class, x, y, w, h]]))\n",
    "                        f2.write(\"\\n\")\n",
    "k = Kitti2Dark(image_path, label_path, label_output)"
   ]
  }
 ],
 "metadata": {
  "kernelspec": {
   "display_name": "Python 3",
   "language": "python",
   "name": "python3"
  },
  "language_info": {
   "codemirror_mode": {
    "name": "ipython",
    "version": 3
   },
   "file_extension": ".py",
   "mimetype": "text/x-python",
   "name": "python",
   "nbconvert_exporter": "python",
   "pygments_lexer": "ipython3",
   "version": "3.8.5"
  }
 },
 "nbformat": 4,
 "nbformat_minor": 4
}
